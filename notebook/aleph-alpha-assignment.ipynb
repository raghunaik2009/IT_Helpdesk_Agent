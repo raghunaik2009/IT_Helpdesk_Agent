{
 "cells": [
  {
   "cell_type": "markdown",
   "metadata": {},
   "source": [
    "<a class=\"challenge\" id=\"0\"></a>\n",
    "\n",
    "# **IT Helpdesk Assistant Challenge**\n",
    "\n",
    "The goal of this case study is to develop a feature that assists IT helpdesk agents by utilizing historical ticket data to suggest resolutions for new tickets. I utilized a Retrieval-Augmented Generation (RAG) approach combined with modern AI tools to build an efficient system for generating contextual suggestions."
   ]
  },
  {
   "cell_type": "markdown",
   "metadata": {},
   "source": [
    "<a class=\"challenge\" id=\"0.1\"></a>\n",
    "\n",
    "## Table of Contents\n",
    "\n",
    "\n",
    "The table of contents for this challenge are as follows: -\n",
    "\n",
    "1.\t[Assumptions](#1)\n",
    "1.\t[Approach](#2)\n",
    "      - [Data Integration and Processing](#2.1)\n",
    "      - [Vectorization and Retrieval](#2.2)\n",
    "      - [LLM Integration](#2.3)\n",
    "      - [User Interface](#2.4)\n",
    "1.  [Consideration](#3)\n",
    "1.  [Results of Experimentation](#4)\n",
    "1.\t[Shortcomings](#5)\n",
    "1.\t[Considerations for Improvement](#6)\n",
    "      - [Utilization of All Dataset Columns](#6.1)\n",
    "      - [Time-Weighted Indexing](#6.2)\n",
    "      - [Handling True and False Resolutions](#6.3)\n",
    "      - [Expanded Functionality](#6.4)\n",
    "1.\t[Future Work](#7)\n",
    "1.\t[Conclusion](#8)"
   ]
  },
  {
   "attachments": {},
   "cell_type": "markdown",
   "metadata": {},
   "source": [
    "## 1. Assumptions <a class=\"challenge\" id=\"1\"></a>\n",
    "\n",
    "[Back to Table of Contents](#0.1)\n",
    "\n",
    "\n",
    "-\t**Data Availability:** The dataset includes tickets in CSV, Excel, and JSON formats with consistent column names.\n",
    "\n",
    "-\t**Data Quality:** It is assumed that the data is clean and free from significant errors or inconsistencies.\n",
    "\n",
    "-\t**Categorization:** Tickets are categorized appropriately and consistently across all formats.\n",
    "\n",
    "-\t**Model Capability:** The LLM (luminous-base-control) is assumed to be capable of understanding and generating contextually relevant  suggestions based on provided prompts."
   ]
  },
  {
   "cell_type": "markdown",
   "metadata": {},
   "source": [
    "## 2. Approach <a class=\"anchor\" id=\"2\"></a>\n",
    "\n",
    "[Back to Table of Contents](#0.1)\n",
    "\n",
    "\n",
    "Retrieval-Augmented Generation (RAG) approach is used to build quick prototype"
   ]
  },
  {
   "cell_type": "markdown",
   "metadata": {},
   "source": [
    "####  Data Integration <a class=\"anchor\" id=\"2.1\"></a>\n",
    "\n",
    "I chose to combine data from multiple sources (CSV, Excel, JSON) into a single DataFrame to maintain consistency and simplify processing. This decision was based on the need to standardize the data before any meaningful analysis or model training could occur."
   ]
  },
  {
   "cell_type": "markdown",
   "metadata": {},
   "source": [
    "####  Text Preparation <a class=\"anchor\" id=\"2.1\"></a>\n",
    "By combining the 'Issue' and 'Description' fields into a single text field, I aimed to capture the most relevant context for each ticket. This approach allows the model to understand the issue more holistically, which is crucial for generating accurate suggestions."
   ]
  },
  {
   "cell_type": "markdown",
   "metadata": {},
   "source": [
    "####   Vectorization and Retrieval <a class=\"anchor\" id=\"2.2\"></a>\n",
    "\n",
    "- **Document Preparation:** Each document included 'Issue' and 'Description' combined text and metadata including 'Ticket ID', 'Resolution', and 'Category'.\n",
    "- **Chroma DB:** Used Chroma DB for vector storage and retrieval. Metadata filters allowed for category-specific searches.\n",
    "- **Hybrid Search:** Combined text-based vectorization with metadata-based retrieval to enhance search accuracy."
   ]
  },
  {
   "cell_type": "markdown",
   "metadata": {},
   "source": [
    "####   LLM Integration <a class=\"anchor\" id=\"2.3\"></a>\n",
    "\n",
    "- **Prompt Engineering:** Developed prompts to leverage LLMs for generating contextual suggestions based on historical resolutions.\n",
    "- **LLM Chain:** Integrated LLM with the prompt to provide actionable insights for new tickets."
   ]
  },
  {
   "cell_type": "markdown",
   "metadata": {},
   "source": [
    "####   User Interface <a class=\"anchor\" id=\"2.4\"></a>\n",
    "\n",
    "- **Streamlit App:** Built a user-friendly interface to allow helpdesk agents to input ticket details and receive suggestions based on past tickets."
   ]
  },
  {
   "cell_type": "markdown",
   "metadata": {},
   "source": [
    "## 3. Considerations <a class=\"anchor\" id=\"3\"></a>\n",
    "\n",
    "**Time Constraints:** Given the 3-5 hour limit, I prioritized a functional prototype over exhaustive data preprocessing or model optimization. The goal was to demonstrate the core concept effectively rather than perfecting every detail.\n",
    "\n",
    "**Data Filtering:** I initially focused on resolved tickets (Resolved = True) to ensure that the suggestions generated would be based on successful resolutions. However, I considered that including unresolved tickets could offer insights into recurring issues or areas needing further attention.\n",
    "\n",
    "**Scalability:** While the current implementation is suitable for a prototype, I considered the need for future scalability. The use of Chroma DB and hybrid search mechanisms are foundational choices that can be scaled up with larger datasets and more complex retrieval needs.\n",
    "\n",
    "**Prompt Engineering:** The quality of the LLM's output heavily depends on the prompt. I considered different ways to structure the prompt to guide the model effectively. This included decisions on what information to include and how to phrase it to get the most relevant suggestions.\n",
    "\n",
    "**Exclusion of Columns:** The 'Agent Name' and 'Date' columns were not utilized in this prototype. If time had permitted, I would have explored their inclusion, particularly for temporal analysis (e.g., trends over time) and agent-specific expertise (e.g., certain agents solving specific issues more efficiently)."
   ]
  },
  {
   "cell_type": "markdown",
   "metadata": {},
   "source": [
    "## 4. Results of Experimentation <a class=\"anchor\" id=\"4\"></a>\n",
    "\n",
    "[Back to Table of Contents](#0.1)\n",
    "\n",
    "#### i. Functionality\n",
    "\n",
    "Validated that the system retrieves relevant past resolutions and generates useful suggestions.\n",
    "\n",
    "#### ii. Prompt Effectiveness\n",
    "\n",
    "Effective in guiding the LLM to generate contextually appropriate suggestions.\n",
    "\n",
    "#### iii. UI Performance\n",
    "\n",
    "Streamlit app effectively integrates with the backend and provides a functional interface. **[Demo]**"
   ]
  },
  {
   "cell_type": "markdown",
   "metadata": {},
   "source": [
    "## 5. Shortcomings <a class=\"anchor\" id=\"5\"></a>\n",
    "\n",
    "[Back to Table of Contents](#0.1)\n",
    "\n",
    "#### i. Limited Dataset Scope\n",
    "\n",
    "The system's effectiveness is contingent on the size and representativeness of the dataset. Small or unrepresentative datasets may limit utility.\n",
    "\n",
    "#### ii. Resolution Specificity\n",
    "\n",
    "Resolution Specificity: Suggestions might be too generic if the combined resolutions are not sufficiently detailed.\n",
    "\n",
    "#### iii. Performance Issues\n",
    "\n",
    "Performance Issues: Response times may be affected by dataset size and query complexity.\n",
    "\n",
    "#### iv. Category Filtering\n",
    "\n",
    "Category Filtering: Basic filtering might not capture nuanced differences between ticket categories."
   ]
  },
  {
   "cell_type": "markdown",
   "metadata": {},
   "source": [
    "## 6. Considerations for Improvement <a class=\"anchor\" id=\"6\"></a>\n",
    "\n",
    "[Back to Table of Contents](#0.1)"
   ]
  },
  {
   "cell_type": "markdown",
   "metadata": {},
   "source": [
    "####  Utilization of All Dataset Columns <a class=\"anchor\" id=\"6.1\"></a>\n",
    "\n",
    "- **Agent Name:** Could be used to identify patterns or expertise of different agents. For example, different agents might handle specific types of issues more effectively. This could be incorporated into the retrieval mechanism to weight suggestions based on agent expertise.\n",
    "- **Date:** Temporal information can be used to prioritize more recent tickets or identify trends over time. Implementing time-based indexing in the vector database could improve relevance."
   ]
  },
  {
   "cell_type": "markdown",
   "metadata": {},
   "source": [
    "####  Time-Weighted Indexing <a class=\"anchor\" id=\"6.2\"></a>\n",
    "\n",
    "- **Concept:** Incorporate temporal factors by weighting more recent tickets higher during retrieval. This helps in adapting to changes in common issues or solutions over time.\n",
    "- **Implementation:** Modify the vector storage to include timestamps and adjust the retrieval mechanism to consider the age of the tickets."
   ]
  },
  {
   "cell_type": "markdown",
   "metadata": {},
   "source": [
    "####  Handling True and False Resolutions <a class=\"anchor\" id=\"6.3\"></a>\n",
    "\n",
    "- **Current Approach:** Only True resolutions were considered, which may exclude useful information from unresolved tickets.\n",
    "- **Improvement:** Include False resolutions in a separate context or as a negative example. This could help in providing more comprehensive suggestions and understanding common pitfalls."
   ]
  },
  {
   "cell_type": "markdown",
   "metadata": {},
   "source": [
    "####  Expanded Functionality <a class=\"anchor\" id=\"6.4\"></a>\n",
    "\n",
    "- **Enhanced Categorization:** Develop more detailed categorization or subcategories to refine filtering and retrieval processes.\n",
    "- **Feedback Loop:** Implement a feedback mechanism to continuously refine suggestions based on user input and real-world application.\n",
    "- **Automated Categorization:** Use machine learning models to automate ticket categorization and enhance the system's adaptability."
   ]
  },
  {
   "cell_type": "markdown",
   "metadata": {},
   "source": [
    "## 7. Future Work <a class=\"anchor\" id=\"7\"></a>\n",
    "\n",
    "[Back to Table of Contents](#0.1)\n",
    "\n",
    "#### i. Data Expansion:\n",
    "\n",
    "Integrate additional datasets to improve the breadth and depth of suggestions.\n",
    "\n",
    "#### ii. Advanced Filtering:\n",
    "\n",
    "Implement sophisticated filtering techniques to handle nuanced categories and subcategories.\n",
    "\n",
    "#### iii. Performance Optimization:\n",
    "\n",
    "Explore advanced indexing techniques and optimizations for faster retrieval and response times.\n",
    "\n",
    "#### iv. User Feedback Integration:\n",
    "\n",
    "Develop features for collecting and incorporating user feedback to continuously improve suggestion accuracy.\n",
    " \n",
    "#### v. Integration with Other Tools:\n",
    "\n",
    "Consider integrating with other IT management tools or knowledge bases for a more comprehensive support system."
   ]
  },
  {
   "cell_type": "code",
   "execution_count": 3,
   "metadata": {
    "_cell_guid": "b1076dfc-b9ad-4769-8c92-a6c4dae69d19",
    "_uuid": "8f2839f25d086af736a60e9eeb907d3b93b6e0e5"
   },
   "outputs": [],
   "source": [
    "#### Loading python packages\n",
    "\n",
    "import pandas as pd\n",
    "from langchain.chains import LLMChain\n",
    "from langchain.prompts import PromptTemplate\n",
    "from langchain_chroma import Chroma\n",
    "from langchain_core.documents import Document\n",
    "from dotenv import load_dotenv\n",
    "import os\n",
    "from langchain_community.llms import AlephAlpha\n",
    "from langchain_core.prompts import PromptTemplate\n",
    "from langchain_community.document_loaders import DataFrameLoader\n",
    "from langchain_community.embeddings.aleph_alpha import AlephAlphaAsymmetricSemanticEmbedding, AlephAlphaSymmetricSemanticEmbedding"
   ]
  },
  {
   "cell_type": "code",
   "execution_count": 4,
   "metadata": {},
   "outputs": [
    {
     "data": {
      "text/plain": [
       "True"
      ]
     },
     "execution_count": 4,
     "metadata": {},
     "output_type": "execute_result"
    }
   ],
   "source": [
    "load_dotenv()"
   ]
  },
  {
   "cell_type": "code",
   "execution_count": 5,
   "metadata": {},
   "outputs": [],
   "source": [
    "# Load data from different sources\n",
    "df_csv = pd.read_csv('data/old_tickets/ticket_dump_1.csv')  # CSV file\n",
    "df_excel = pd.read_excel('data/old_tickets/ticket_dump_2.xlsx')  # Excel file\n",
    "df_json = pd.read_json('data/old_tickets/ticket_dump_3.json')  # JSON file"
   ]
  },
  {
   "cell_type": "code",
   "execution_count": 7,
   "metadata": {},
   "outputs": [
    {
     "data": {
      "text/html": [
       "<div>\n",
       "<style scoped>\n",
       "    .dataframe tbody tr th:only-of-type {\n",
       "        vertical-align: middle;\n",
       "    }\n",
       "\n",
       "    .dataframe tbody tr th {\n",
       "        vertical-align: top;\n",
       "    }\n",
       "\n",
       "    .dataframe thead th {\n",
       "        text-align: right;\n",
       "    }\n",
       "</style>\n",
       "<table border=\"1\" class=\"dataframe\">\n",
       "  <thead>\n",
       "    <tr style=\"text-align: right;\">\n",
       "      <th></th>\n",
       "      <th>Ticket ID</th>\n",
       "      <th>Issue</th>\n",
       "      <th>Category</th>\n",
       "      <th>Resolution</th>\n",
       "      <th>Date</th>\n",
       "      <th>Agent Name</th>\n",
       "      <th>Resolved</th>\n",
       "      <th>Description</th>\n",
       "    </tr>\n",
       "  </thead>\n",
       "  <tbody>\n",
       "    <tr>\n",
       "      <th>0</th>\n",
       "      <td>TCKT-1010</td>\n",
       "      <td>Email synchronization error</td>\n",
       "      <td>Software</td>\n",
       "      <td>Reconfigured email settings</td>\n",
       "      <td>2024-01-20</td>\n",
       "      <td>Alice Johnson</td>\n",
       "      <td>True</td>\n",
       "      <td>Emails not syncing correctly across devices, c...</td>\n",
       "    </tr>\n",
       "    <tr>\n",
       "      <th>1</th>\n",
       "      <td>TCKT-1011</td>\n",
       "      <td>VPN disconnection issues</td>\n",
       "      <td>Network</td>\n",
       "      <td>VPN settings updated</td>\n",
       "      <td>2024-01-21</td>\n",
       "      <td>Bob Smith</td>\n",
       "      <td>False</td>\n",
       "      <td>Repeated VPN disconnections impacting remote a...</td>\n",
       "    </tr>\n",
       "  </tbody>\n",
       "</table>\n",
       "</div>"
      ],
      "text/plain": [
       "   Ticket ID                        Issue  Category  \\\n",
       "0  TCKT-1010  Email synchronization error  Software   \n",
       "1  TCKT-1011     VPN disconnection issues   Network   \n",
       "\n",
       "                    Resolution        Date     Agent Name  Resolved  \\\n",
       "0  Reconfigured email settings  2024-01-20  Alice Johnson      True   \n",
       "1         VPN settings updated  2024-01-21      Bob Smith     False   \n",
       "\n",
       "                                         Description  \n",
       "0  Emails not syncing correctly across devices, c...  \n",
       "1  Repeated VPN disconnections impacting remote a...  "
      ]
     },
     "execution_count": 7,
     "metadata": {},
     "output_type": "execute_result"
    }
   ],
   "source": [
    "df_csv.head(2)"
   ]
  },
  {
   "cell_type": "code",
   "execution_count": 8,
   "metadata": {},
   "outputs": [
    {
     "data": {
      "text/html": [
       "<div>\n",
       "<style scoped>\n",
       "    .dataframe tbody tr th:only-of-type {\n",
       "        vertical-align: middle;\n",
       "    }\n",
       "\n",
       "    .dataframe tbody tr th {\n",
       "        vertical-align: top;\n",
       "    }\n",
       "\n",
       "    .dataframe thead th {\n",
       "        text-align: right;\n",
       "    }\n",
       "</style>\n",
       "<table border=\"1\" class=\"dataframe\">\n",
       "  <thead>\n",
       "    <tr style=\"text-align: right;\">\n",
       "      <th></th>\n",
       "      <th>Ticket ID</th>\n",
       "      <th>Issue</th>\n",
       "      <th>Category</th>\n",
       "      <th>Resolution</th>\n",
       "      <th>Date</th>\n",
       "      <th>Agent Name</th>\n",
       "      <th>Resolved</th>\n",
       "      <th>Description</th>\n",
       "    </tr>\n",
       "  </thead>\n",
       "  <tbody>\n",
       "    <tr>\n",
       "      <th>0</th>\n",
       "      <td>TCKT-1050</td>\n",
       "      <td>Email client crashes on opening</td>\n",
       "      <td>Software</td>\n",
       "      <td>Email client reinstalled</td>\n",
       "      <td>2024-01-30</td>\n",
       "      <td>Alice Johnson</td>\n",
       "      <td>True</td>\n",
       "      <td>The email client crashes whenever the user tri...</td>\n",
       "    </tr>\n",
       "    <tr>\n",
       "      <th>1</th>\n",
       "      <td>TCKT-1051</td>\n",
       "      <td>VPN not connecting</td>\n",
       "      <td>Network</td>\n",
       "      <td>VPN client updated</td>\n",
       "      <td>2024-01-31</td>\n",
       "      <td>Bob Smith</td>\n",
       "      <td>False</td>\n",
       "      <td>VPN fails to connect to the company\\'s network...</td>\n",
       "    </tr>\n",
       "  </tbody>\n",
       "</table>\n",
       "</div>"
      ],
      "text/plain": [
       "   Ticket ID                            Issue  Category  \\\n",
       "0  TCKT-1050  Email client crashes on opening  Software   \n",
       "1  TCKT-1051               VPN not connecting   Network   \n",
       "\n",
       "                 Resolution        Date     Agent Name  Resolved  \\\n",
       "0  Email client reinstalled  2024-01-30  Alice Johnson      True   \n",
       "1        VPN client updated  2024-01-31      Bob Smith     False   \n",
       "\n",
       "                                         Description  \n",
       "0  The email client crashes whenever the user tri...  \n",
       "1  VPN fails to connect to the company\\'s network...  "
      ]
     },
     "execution_count": 8,
     "metadata": {},
     "output_type": "execute_result"
    }
   ],
   "source": [
    "df_excel.head(2)"
   ]
  },
  {
   "cell_type": "code",
   "execution_count": 9,
   "metadata": {},
   "outputs": [
    {
     "data": {
      "text/html": [
       "<div>\n",
       "<style scoped>\n",
       "    .dataframe tbody tr th:only-of-type {\n",
       "        vertical-align: middle;\n",
       "    }\n",
       "\n",
       "    .dataframe tbody tr th {\n",
       "        vertical-align: top;\n",
       "    }\n",
       "\n",
       "    .dataframe thead th {\n",
       "        text-align: right;\n",
       "    }\n",
       "</style>\n",
       "<table border=\"1\" class=\"dataframe\">\n",
       "  <thead>\n",
       "    <tr style=\"text-align: right;\">\n",
       "      <th></th>\n",
       "      <th>Ticket ID</th>\n",
       "      <th>Issue</th>\n",
       "      <th>Category</th>\n",
       "      <th>Resolution</th>\n",
       "      <th>Date</th>\n",
       "      <th>Agent Name</th>\n",
       "      <th>Resolved</th>\n",
       "      <th>Description</th>\n",
       "    </tr>\n",
       "  </thead>\n",
       "  <tbody>\n",
       "    <tr>\n",
       "      <th>20</th>\n",
       "      <td>TKT1000</td>\n",
       "      <td>Email account locked</td>\n",
       "      <td>Hardware</td>\n",
       "      <td>Check network settings</td>\n",
       "      <td>2024-01-16 19:30:28</td>\n",
       "      <td>Tammy Cardenas</td>\n",
       "      <td>False</td>\n",
       "      <td>User's email account is locked due to multiple...</td>\n",
       "    </tr>\n",
       "    <tr>\n",
       "      <th>21</th>\n",
       "      <td>TKT1001</td>\n",
       "      <td>Printer not connecting</td>\n",
       "      <td>Hardware</td>\n",
       "      <td>Update software</td>\n",
       "      <td>2024-01-20 11:43:44</td>\n",
       "      <td>Julie Leonard</td>\n",
       "      <td>True</td>\n",
       "      <td>Network printer is not connecting to the offic...</td>\n",
       "    </tr>\n",
       "  </tbody>\n",
       "</table>\n",
       "</div>"
      ],
      "text/plain": [
       "   Ticket ID                   Issue  Category              Resolution  \\\n",
       "20   TKT1000    Email account locked  Hardware  Check network settings   \n",
       "21   TKT1001  Printer not connecting  Hardware         Update software   \n",
       "\n",
       "                  Date      Agent Name  Resolved  \\\n",
       "20 2024-01-16 19:30:28  Tammy Cardenas     False   \n",
       "21 2024-01-20 11:43:44   Julie Leonard      True   \n",
       "\n",
       "                                          Description  \n",
       "20  User's email account is locked due to multiple...  \n",
       "21  Network printer is not connecting to the offic...  "
      ]
     },
     "execution_count": 9,
     "metadata": {},
     "output_type": "execute_result"
    }
   ],
   "source": [
    "df_json.head(2)"
   ]
  },
  {
   "cell_type": "code",
   "execution_count": 11,
   "metadata": {},
   "outputs": [
    {
     "data": {
      "text/plain": [
       "((10, 8), (10, 8), (10, 8))"
      ]
     },
     "execution_count": 11,
     "metadata": {},
     "output_type": "execute_result"
    }
   ],
   "source": [
    "df_json.shape, df_excel.shape, df_csv.shape"
   ]
  },
  {
   "cell_type": "code",
   "execution_count": 12,
   "metadata": {},
   "outputs": [],
   "source": [
    "# Combine the DataFrames\n",
    "df_combined = pd.concat([df_csv, df_excel, df_json], ignore_index=True)"
   ]
  },
  {
   "cell_type": "code",
   "execution_count": 13,
   "metadata": {},
   "outputs": [
    {
     "data": {
      "text/html": [
       "<div>\n",
       "<style scoped>\n",
       "    .dataframe tbody tr th:only-of-type {\n",
       "        vertical-align: middle;\n",
       "    }\n",
       "\n",
       "    .dataframe tbody tr th {\n",
       "        vertical-align: top;\n",
       "    }\n",
       "\n",
       "    .dataframe thead th {\n",
       "        text-align: right;\n",
       "    }\n",
       "</style>\n",
       "<table border=\"1\" class=\"dataframe\">\n",
       "  <thead>\n",
       "    <tr style=\"text-align: right;\">\n",
       "      <th></th>\n",
       "      <th>Ticket ID</th>\n",
       "      <th>Issue</th>\n",
       "      <th>Category</th>\n",
       "      <th>Resolution</th>\n",
       "      <th>Date</th>\n",
       "      <th>Agent Name</th>\n",
       "      <th>Resolved</th>\n",
       "      <th>Description</th>\n",
       "    </tr>\n",
       "  </thead>\n",
       "  <tbody>\n",
       "    <tr>\n",
       "      <th>0</th>\n",
       "      <td>TCKT-1010</td>\n",
       "      <td>Email synchronization error</td>\n",
       "      <td>Software</td>\n",
       "      <td>Reconfigured email settings</td>\n",
       "      <td>2024-01-20</td>\n",
       "      <td>Alice Johnson</td>\n",
       "      <td>True</td>\n",
       "      <td>Emails not syncing correctly across devices, c...</td>\n",
       "    </tr>\n",
       "    <tr>\n",
       "      <th>1</th>\n",
       "      <td>TCKT-1011</td>\n",
       "      <td>VPN disconnection issues</td>\n",
       "      <td>Network</td>\n",
       "      <td>VPN settings updated</td>\n",
       "      <td>2024-01-21</td>\n",
       "      <td>Bob Smith</td>\n",
       "      <td>False</td>\n",
       "      <td>Repeated VPN disconnections impacting remote a...</td>\n",
       "    </tr>\n",
       "    <tr>\n",
       "      <th>2</th>\n",
       "      <td>TCKT-1012</td>\n",
       "      <td>Password reset issue</td>\n",
       "      <td>Account Management</td>\n",
       "      <td>Password reset successfully</td>\n",
       "      <td>2024-01-22</td>\n",
       "      <td>Cathy Brown</td>\n",
       "      <td>True</td>\n",
       "      <td>User unable to reset password due to system er...</td>\n",
       "    </tr>\n",
       "    <tr>\n",
       "      <th>3</th>\n",
       "      <td>TCKT-1013</td>\n",
       "      <td>Request for software installation rights</td>\n",
       "      <td>Software</td>\n",
       "      <td>Installation permissions granted</td>\n",
       "      <td>2024-01-23</td>\n",
       "      <td>David Clark</td>\n",
       "      <td>False</td>\n",
       "      <td>Employee requesting installation rights for ne...</td>\n",
       "    </tr>\n",
       "    <tr>\n",
       "      <th>4</th>\n",
       "      <td>TCKT-1044</td>\n",
       "      <td>Printer connectivity problem</td>\n",
       "      <td>Hardware</td>\n",
       "      <td>Printer driver reinstalled</td>\n",
       "      <td>2024-01-24</td>\n",
       "      <td>Eva Adams</td>\n",
       "      <td>True</td>\n",
       "      <td>Printer not connecting to any devices in the o...</td>\n",
       "    </tr>\n",
       "  </tbody>\n",
       "</table>\n",
       "</div>"
      ],
      "text/plain": [
       "   Ticket ID                                     Issue            Category  \\\n",
       "0  TCKT-1010               Email synchronization error            Software   \n",
       "1  TCKT-1011                  VPN disconnection issues             Network   \n",
       "2  TCKT-1012                      Password reset issue  Account Management   \n",
       "3  TCKT-1013  Request for software installation rights            Software   \n",
       "4  TCKT-1044              Printer connectivity problem            Hardware   \n",
       "\n",
       "                         Resolution        Date     Agent Name  Resolved  \\\n",
       "0       Reconfigured email settings  2024-01-20  Alice Johnson      True   \n",
       "1              VPN settings updated  2024-01-21      Bob Smith     False   \n",
       "2       Password reset successfully  2024-01-22    Cathy Brown      True   \n",
       "3  Installation permissions granted  2024-01-23    David Clark     False   \n",
       "4        Printer driver reinstalled  2024-01-24      Eva Adams      True   \n",
       "\n",
       "                                         Description  \n",
       "0  Emails not syncing correctly across devices, c...  \n",
       "1  Repeated VPN disconnections impacting remote a...  \n",
       "2  User unable to reset password due to system er...  \n",
       "3  Employee requesting installation rights for ne...  \n",
       "4  Printer not connecting to any devices in the o...  "
      ]
     },
     "execution_count": 13,
     "metadata": {},
     "output_type": "execute_result"
    }
   ],
   "source": [
    "df_combined.head()"
   ]
  },
  {
   "cell_type": "code",
   "execution_count": 14,
   "metadata": {},
   "outputs": [
    {
     "data": {
      "text/plain": [
       "array(['Software', 'Network', 'Account Management', 'Hardware'],\n",
       "      dtype=object)"
      ]
     },
     "execution_count": 14,
     "metadata": {},
     "output_type": "execute_result"
    }
   ],
   "source": [
    "df_combined.Category.unique()"
   ]
  },
  {
   "cell_type": "code",
   "execution_count": 16,
   "metadata": {},
   "outputs": [],
   "source": [
    "# Filter for resolved tickets only\n",
    "df_combined = df_combined[df_combined['Resolved'] == True]"
   ]
  },
  {
   "cell_type": "code",
   "execution_count": 17,
   "metadata": {},
   "outputs": [],
   "source": [
    "df_combined['combined_text'] = df_combined.apply(lambda row: f\"Issue: {row['Issue']}\\nDescription: {row['Description']}\", axis=1)"
   ]
  },
  {
   "cell_type": "code",
   "execution_count": 18,
   "metadata": {},
   "outputs": [
    {
     "data": {
      "text/plain": [
       "(17, 9)"
      ]
     },
     "execution_count": 18,
     "metadata": {},
     "output_type": "execute_result"
    }
   ],
   "source": [
    "df_combined.shape"
   ]
  },
  {
   "cell_type": "code",
   "execution_count": 19,
   "metadata": {},
   "outputs": [],
   "source": [
    "# Initialize luminous-base embeddings\n",
    "embeddings = AlephAlphaAsymmetricSemanticEmbedding(normalize=True,compress_to_size=128,aleph_alpha_api_key=os.getenv(\"AA_TOKEN\"))"
   ]
  },
  {
   "cell_type": "code",
   "execution_count": 20,
   "metadata": {},
   "outputs": [],
   "source": [
    "# Prepare documents with metadata including Category\n",
    "documents = [\n",
    "    Document(\n",
    "        page_content=text, \n",
    "        metadata={\n",
    "            \"Ticket ID\": row['Ticket ID'], \n",
    "            \"Resolution\": row['Resolution'], \n",
    "            \"Category\": row['Category']  # Include Category in metadata\n",
    "        }\n",
    "    ) \n",
    "    for text, row in zip(df_combined['combined_text'], df_combined.to_dict('records'))\n",
    "]"
   ]
  },
  {
   "cell_type": "code",
   "execution_count": 22,
   "metadata": {},
   "outputs": [
    {
     "data": {
      "text/plain": [
       "17"
      ]
     },
     "execution_count": 22,
     "metadata": {},
     "output_type": "execute_result"
    }
   ],
   "source": [
    "len(documents)"
   ]
  },
  {
   "cell_type": "code",
   "execution_count": 23,
   "metadata": {},
   "outputs": [],
   "source": [
    "#chroma_db = Chroma.from_documents(documents=documents, embedding=embeddings,persist_directory=\"./chroma_db_aleph\")"
   ]
  },
  {
   "cell_type": "code",
   "execution_count": 24,
   "metadata": {},
   "outputs": [],
   "source": [
    "chroma_db = Chroma(persist_directory=\"./chroma_db_aleph\", embedding_function=embeddings)"
   ]
  },
  {
   "cell_type": "code",
   "execution_count": 25,
   "metadata": {},
   "outputs": [
    {
     "data": {
      "text/plain": [
       "17"
      ]
     },
     "execution_count": 25,
     "metadata": {},
     "output_type": "execute_result"
    }
   ],
   "source": [
    "len(chroma_db.get()[\"ids\"])"
   ]
  },
  {
   "cell_type": "code",
   "execution_count": 26,
   "metadata": {
    "scrolled": true
   },
   "outputs": [
    {
     "name": "stdout",
     "output_type": "stream",
     "text": [
      "{'ids': ['1ad506a0-b0b3-4616-98c6-1b9c40015a71', '26b6cd9b-1ad5-4f78-9f1e-81abc2cb1dba', '3b5899a0-92b3-4680-b876-f31a962585e0', '3d090701-3032-4244-bd2f-72ca73dfd9c4', '46fb12c8-20c8-4024-b82a-ea2d29b05491', '4d88f20c-0f94-4362-ba02-d2a7c87e85c9', '568d16ec-c9e3-406d-8971-33a5ba8ffdce', '655639fc-a543-4b26-8eec-ca6a84feffa6', '7cb1dbdd-e227-4e4b-9ba4-d8eedcf42e1f', 'bc976b03-16c3-44f9-9bbd-c9c9605c96e6', 'c8f4fec1-f734-42cb-802c-6ef2c3d4875a', 'cdea9578-6f25-4409-8751-770278ece3fb', 'd15143d2-85a1-4b10-a928-d5678365ee43', 'd95c649c-eff7-46f0-9474-ccca8d10a504', 'e161b287-ec23-4df0-b6f0-c340ff288670', 'f13dc5bd-048a-4b1a-8179-a287466a0f93', 'f43d7f3f-5b63-4990-9d70-6f59fe137f70'], 'embeddings': [[-0.1015625, 0.06396484375, 0.06298828125, -0.111328125, 0.0205078125, -0.05908203125, 0.09130859375, -0.0478515625, 0.0208740234375, 0.017333984375, 0.01165771484375, 0.12060546875, 0.046142578125, -0.0225830078125, 0.0859375, -0.01544189453125, 0.07568359375, 0.06884765625, 0.052001953125, -0.265625, -0.00408935546875, -0.1455078125, -0.1318359375, 0.033203125, -0.0654296875, 0.107421875, -0.00897216796875, -0.0257568359375, -0.0859375, 0.10107421875, 0.040771484375, -0.04833984375, -0.01385498046875, 0.03125, 0.00182342529296875, -0.0390625, 0.17578125, 0.018798828125, 0.036865234375, 0.193359375, -0.125, -0.05615234375, 0.06689453125, 0.140625, 0.1904296875, 0.0113525390625, -0.035888671875, -0.09423828125, 0.007110595703125, -0.036865234375, 0.02197265625, 0.04736328125, 0.07763671875, -0.1279296875, 0.044921875, -0.005218505859375, -0.054443359375, 0.1142578125, -0.061767578125, -0.0654296875, 0.06591796875, -0.0390625, -0.0225830078125, -0.0284423828125, 0.1318359375, -0.0546875, -0.044677734375, -0.00101470947265625, -0.13671875, 0.2314453125, 0.1748046875, -0.10986328125, 0.025634765625, 0.1240234375, 0.06640625, -0.04541015625, -0.07421875, -0.061767578125, -0.0201416015625, -0.0263671875, 0.05078125, -0.123046875, -0.228515625, -0.0189208984375, 0.05908203125, 0.025634765625, -0.0228271484375, -0.18359375, -0.062255859375, -0.09912109375, -0.0673828125, -0.1591796875, -0.04052734375, 0.119140625, 0.02490234375, -0.053466796875, 0.038818359375, 0.1337890625, 0.0625, -0.146484375, -0.08740234375, 0.039306640625, -0.049072265625, 0.1005859375, 0.0966796875, -0.11083984375, -0.11572265625, -0.06396484375, -0.08447265625, -0.09619140625, 0.052001953125, -0.031982421875, -0.0213623046875, -0.0693359375, -0.04345703125, -0.0908203125, 0.06494140625, 0.08984375, 0.0238037109375, -0.0211181640625, -0.023681640625, -0.0172119140625, -0.15234375, 0.05908203125, 0.1259765625, 0.087890625, -0.033203125, 0.01104736328125], [-0.028076171875, -0.12890625, 0.061279296875, -0.10205078125, -0.0032958984375, -0.119140625, -0.1123046875, 0.0732421875, 0.01458740234375, 0.2333984375, -0.042236328125, 0.06494140625, -0.04150390625, -0.021728515625, -0.054931640625, 0.007720947265625, -0.10205078125, -0.0556640625, -0.048583984375, -0.107421875, 0.0169677734375, -0.10546875, -0.080078125, -0.01275634765625, 0.01373291015625, 0.1044921875, -0.06396484375, -0.1416015625, -0.025390625, -0.11083984375, 0.0458984375, 0.1123046875, 0.0291748046875, -0.0036163330078125, 0.04443359375, 0.03466796875, 0.138671875, -0.10986328125, 0.1044921875, 0.03466796875, -0.1904296875, -0.10693359375, -0.03271484375, 0.08203125, 0.1435546875, 0.00836181640625, -0.064453125, 0.0537109375, 0.05859375, -0.1005859375, 0.039306640625, 0.08203125, 0.006683349609375, -0.09033203125, 0.203125, 0.1357421875, -0.02685546875, 0.171875, 0.038330078125, -0.1416015625, 0.10546875, 0.078125, -0.0230712890625, -0.1279296875, 0.1220703125, 0.1806640625, -0.0732421875, 0.0020751953125, -0.08642578125, 0.173828125, 0.181640625, -0.1220703125, -0.01318359375, -0.03662109375, 0.046630859375, 0.06982421875, -0.01214599609375, -0.10205078125, -0.044921875, -0.1728515625, 0.1083984375, -0.06103515625, -0.158203125, -0.017578125, 0.0028839111328125, 0.05078125, -0.00124359130859375, 0.0125732421875, -0.01544189453125, 0.0751953125, -0.05078125, -0.11572265625, 0.026123046875, 0.036865234375, -0.06103515625, -0.2392578125, 0.0242919921875, -0.005340576171875, -0.025146484375, 0.006622314453125, -0.06787109375, 0.1376953125, 0.051025390625, -0.00830078125, 0.0595703125, -0.1123046875, -0.016845703125, -0.064453125, -0.01123046875, -0.031494140625, 0.10302734375, 0.064453125, -0.1142578125, -0.10205078125, -0.037109375, -0.0361328125, 0.041748046875, 0.078125, 0.038818359375, 0.0247802734375, 0.0030364990234375, 0.0299072265625, 0.05615234375, 0.08056640625, -0.08984375, 0.11279296875, -0.01507568359375, 0.06591796875], [-0.01165771484375, -0.07177734375, -0.015380859375, -0.142578125, -0.1572265625, -0.0703125, 0.0274658203125, 0.11279296875, 0.00689697265625, 0.0074462890625, 0.03369140625, -0.044189453125, -0.0118408203125, -0.03515625, 0.07861328125, -0.06787109375, 0.1376953125, 0.10888671875, -0.162109375, -0.0595703125, -0.09765625, -0.1201171875, -0.083984375, -0.12451171875, 0.11279296875, 0.08544921875, -0.11767578125, -0.01068115234375, 0.0142822265625, -0.0274658203125, 0.1572265625, 0.040283203125, -0.020263671875, 0.1064453125, 0.037841796875, 0.06103515625, 0.05029296875, 0.1083984375, 0.021240234375, 0.032958984375, -0.012451171875, 0.1591796875, 0.1259765625, 0.1416015625, 0.0537109375, 0.022705078125, 0.040771484375, 0.056396484375, 0.033447265625, 0.099609375, 0.006011962890625, 0.10986328125, 0.027587890625, -0.12890625, 0.08544921875, 0.140625, -0.21484375, 0.2080078125, 0.0498046875, -0.0703125, 0.00019931793212890625, -0.09326171875, -0.11279296875, -0.031494140625, 0.06884765625, 0.00482177734375, 0.1845703125, 0.0859375, 0.021728515625, 0.146484375, 0.21484375, -0.039794921875, -0.03515625, 0.054931640625, 0.06884765625, -0.12353515625, 0.06396484375, -0.05419921875, -0.0027313232421875, -0.05712890625, -0.087890625, 0.03515625, -0.1845703125, -0.06982421875, -0.0233154296875, -0.0615234375, 0.010498046875, -0.080078125, -0.09521484375, -0.11572265625, -0.0233154296875, -0.1259765625, 0.046630859375, 0.0693359375, 0.052001953125, -0.1767578125, -0.0184326171875, 0.10888671875, -0.0400390625, 0.0390625, -0.0025482177734375, 0.08056640625, -0.0225830078125, -0.01239013671875, 0.0194091796875, -0.142578125, -0.050537109375, 0.036865234375, 0.028564453125, -0.052490234375, 0.1279296875, 0.1865234375, -0.1220703125, -0.054443359375, -0.03857421875, 0.083984375, 0.10693359375, 0.047607421875, 0.0118408203125, 0.007354736328125, 0.0703125, 0.006988525390625, 0.0673828125, 0.029296875, 0.0830078125, 0.083984375, -0.080078125, -0.0064697265625], [-0.07373046875, 0.004669189453125, 0.08056640625, -0.058349609375, -0.0361328125, -0.043701171875, 0.08935546875, -0.0042724609375, 0.04248046875, -0.09912109375, -0.171875, -0.0096435546875, -0.0024871826171875, -0.11279296875, -0.013916015625, 0.00872802734375, 0.09765625, -0.09130859375, -0.017822265625, -0.1630859375, -0.01446533203125, -0.126953125, -0.009765625, 0.06591796875, 0.00138092041015625, 0.07568359375, 0.0079345703125, -0.047607421875, -0.11572265625, -0.076171875, 0.07275390625, -0.0654296875, 0.006622314453125, 0.002655029296875, -0.04931640625, 0.09765625, 0.2001953125, -0.002593994140625, 0.06787109375, 0.17578125, 0.0166015625, 0.031494140625, -0.0654296875, 0.0869140625, 0.1884765625, -0.08447265625, 0.0380859375, -0.1396484375, 0.0164794921875, -0.095703125, -0.04296875, -0.01495361328125, -0.004974365234375, -0.1455078125, 0.059814453125, 0.0247802734375, -0.0277099609375, 0.032470703125, -0.048828125, -0.1767578125, 0.072265625, -0.062255859375, 0.07080078125, -0.06640625, 0.1494140625, 0.0537109375, -0.06689453125, -0.056884765625, -0.177734375, 0.3125, 0.0537109375, 0.07861328125, 0.0439453125, 0.06787109375, 0.123046875, 0.024169921875, -0.0869140625, 0.054931640625, -0.076171875, -0.0634765625, 0.0703125, -0.051513671875, -0.177734375, -0.08447265625, 0.04736328125, -0.007354736328125, 0.0198974609375, -0.10205078125, -0.12109375, 0.0228271484375, -0.078125, -0.09521484375, -0.059814453125, 0.11328125, 0.107421875, -0.1552734375, -0.1611328125, 0.10302734375, 0.048583984375, -0.03955078125, -0.11083984375, -0.010986328125, -0.0203857421875, 0.00689697265625, 0.1435546875, -0.1552734375, -0.134765625, -0.05078125, 0.10595703125, -0.037841796875, 0.0849609375, 0.057373046875, 0.031982421875, -0.0498046875, 0.0712890625, -0.07763671875, 0.09423828125, 0.047119140625, -0.0194091796875, -0.0166015625, -0.013427734375, -0.02685546875, -0.1298828125, -0.04931640625, 0.032470703125, 0.1298828125, 0.04833984375, -0.0277099609375], [-0.0400390625, -0.055908203125, -0.03369140625, -0.115234375, -0.02880859375, 0.003631591796875, 0.0185546875, 0.01708984375, 0.01153564453125, 0.0126953125, -0.0517578125, 0.1875, 0.037841796875, -0.06884765625, 0.07763671875, 0.031982421875, 0.05517578125, 0.08203125, -0.126953125, -0.07958984375, -0.040283203125, -0.1416015625, -0.1728515625, -0.01141357421875, -0.10498046875, 0.09716796875, -0.140625, 0.028564453125, -0.091796875, 0.064453125, 0.16015625, -0.103515625, -0.11376953125, -0.000560760498046875, 0.047119140625, -0.048828125, 0.049560546875, 0.006866455078125, 0.014892578125, 0.125, 0.053466796875, -0.004119873046875, 0.034912109375, -0.04296875, 0.16796875, -0.0458984375, -0.09619140625, -0.2138671875, 0.006622314453125, 0.047119140625, 0.177734375, 0.055419921875, 0.028076171875, -0.11767578125, 0.01708984375, 0.0016632080078125, -0.05908203125, 0.1201171875, -0.10693359375, 0.00433349609375, -0.0072021484375, -0.07373046875, -0.10888671875, 0.053466796875, 0.05126953125, 0.0019989013671875, -0.05712890625, 0.07470703125, -0.03515625, 0.11083984375, 0.05224609375, 0.0240478515625, -0.048095703125, 0.1474609375, 0.1884765625, 0.0194091796875, 0.029541015625, -0.099609375, 0.0135498046875, 0.0059814453125, 0.0004825592041015625, -0.06591796875, -0.19921875, 0.0230712890625, -0.03955078125, 0.09619140625, 2.8252601623535156e-05, -0.0810546875, 0.0390625, -0.052490234375, -0.039306640625, -0.10107421875, -0.0098876953125, 0.034423828125, 0.01239013671875, -0.04931640625, 0.12890625, 0.11181640625, -0.0072021484375, -0.0625, -0.0277099609375, 0.09033203125, -0.134765625, -0.0106201171875, 0.1416015625, -0.197265625, -0.1591796875, -0.042236328125, -0.0439453125, -0.0849609375, 0.0264892578125, 0.0712890625, -0.1015625, -0.0166015625, 0.12255859375, -0.09765625, 0.0135498046875, 0.08251953125, 0.053955078125, -0.154296875, 0.034423828125, -0.0888671875, -0.037109375, 0.1318359375, 0.1279296875, 0.263671875, 0.057861328125, -0.0018463134765625], [-0.07861328125, -0.1494140625, 0.140625, -0.2373046875, -0.0888671875, -0.00921630859375, 0.04345703125, -3.0159950256347656e-05, 0.03857421875, 0.1005859375, 0.040283203125, 0.08935546875, 0.047119140625, -0.03857421875, 0.01177978515625, -0.021484375, -0.0439453125, 0.09228515625, 0.0439453125, -0.11328125, -0.055908203125, -0.140625, -0.166015625, -0.1015625, 0.107421875, 0.1142578125, 0.023193359375, 0.06298828125, -0.047119140625, -0.031982421875, 0.205078125, 0.035400390625, 0.02197265625, -0.033203125, 0.11669921875, 0.087890625, 0.06396484375, -0.006195068359375, 0.0291748046875, 0.06396484375, 0.109375, 0.087890625, 0.0135498046875, -0.050537109375, 0.107421875, -0.1572265625, -0.058837890625, -0.02490234375, 0.0147705078125, -0.01220703125, -0.0033721923828125, 0.0849609375, 0.1279296875, -0.10791015625, 0.11767578125, 0.033203125, -0.04541015625, 0.2353515625, 0.06982421875, 0.0159912109375, 0.19140625, -0.0101318359375, -0.052978515625, -0.05810546875, 0.0673828125, 0.0189208984375, -0.015869140625, -0.015625, -0.1220703125, 0.1083984375, 0.1005859375, -0.134765625, 0.03076171875, 0.1376953125, 0.000858306884765625, -0.035400390625, 0.0029449462890625, -0.041748046875, -0.109375, -0.1279296875, 0.0908203125, 0.040283203125, -0.078125, 0.006072998046875, 0.01513671875, -0.06298828125, 0.05126953125, 0.01220703125, -0.1552734375, 0.0181884765625, 0.058837890625, -0.1513671875, 0.03271484375, -0.07568359375, -0.08349609375, -0.04345703125, -0.00958251953125, -0.0172119140625, -0.1328125, -0.00019073486328125, 0.023681640625, 0.03125, -0.07470703125, 0.026611328125, 0.1943359375, -0.1396484375, 0.03466796875, -0.169921875, 0.05419921875, -0.0615234375, -0.1435546875, 0.0654296875, 0.00946044921875, -0.1787109375, 0.06005859375, 0.1259765625, 0.0634765625, -0.005889892578125, 0.06884765625, -0.058837890625, -0.052490234375, -0.00555419921875, 0.0218505859375, 0.07958984375, 0.041259765625, 0.08349609375, -0.052490234375, 0.1328125], [0.10400390625, -0.08056640625, 0.03759765625, -0.08642578125, -0.09228515625, 0.06298828125, 0.14453125, 0.0206298828125, 0.08935546875, 0.1376953125, -0.034423828125, -0.034912109375, -0.041748046875, -0.01287841796875, 0.033935546875, -0.07080078125, -0.01361083984375, 0.07080078125, -0.008056640625, -0.099609375, -0.109375, -0.146484375, 0.02587890625, -0.1240234375, 0.09423828125, 0.026611328125, -0.1298828125, 0.03466796875, -0.0146484375, -0.019775390625, 0.005706787109375, 0.02197265625, 0.0712890625, 0.044921875, 0.1201171875, 0.126953125, 0.07568359375, 0.1474609375, 0.06494140625, 0.013671875, -0.1259765625, 0.07421875, 0.048583984375, 0.08056640625, 0.007110595703125, -0.10595703125, 0.01025390625, -0.0166015625, -0.0240478515625, 0.0517578125, -0.06201171875, 0.0498046875, 0.146484375, -0.11767578125, 0.09423828125, 0.0174560546875, -0.123046875, -0.0125732421875, 0.0179443359375, -0.10791015625, 0.0947265625, -0.09619140625, 0.0284423828125, 0.01507568359375, 0.046142578125, 0.1396484375, 0.01226806640625, -0.020263671875, -0.05859375, 0.296875, 0.0174560546875, -0.0546875, -0.00372314453125, 0.07470703125, 0.0296630859375, -0.1845703125, 0.109375, 0.028564453125, 0.091796875, -0.08349609375, 0.004241943359375, 0.1259765625, -0.1728515625, -0.01025390625, 0.0098876953125, -0.060791015625, -0.0201416015625, 0.05029296875, -0.11328125, -0.0133056640625, -0.08740234375, -0.056640625, 0.01434326171875, 0.04345703125, 0.0186767578125, -0.044921875, -0.10595703125, -0.07470703125, -0.2080078125, -0.052001953125, 0.0703125, 0.1591796875, -0.06884765625, 0.09814453125, 0.09814453125, -0.16796875, -0.056640625, -0.06494140625, 0.11474609375, 0.051513671875, 0.06005859375, 0.1220703125, -0.1455078125, -0.1484375, 0.10107421875, 0.087890625, 0.0205078125, 0.07666015625, -0.047607421875, 0.0184326171875, -0.02490234375, 0.0203857421875, -0.0262451171875, -0.0022735595703125, 0.240234375, 0.050048828125, -0.0810546875, 0.04052734375], [0.06640625, -0.12060546875, 0.07958984375, -0.205078125, 0.048828125, 0.05712890625, -0.017578125, 0.1572265625, 0.0302734375, 0.09130859375, 0.06884765625, -0.044921875, -0.0703125, 0.048095703125, 0.146484375, -0.035888671875, -0.018798828125, 0.076171875, 0.0634765625, -0.1552734375, -0.09814453125, -0.04052734375, -0.06787109375, -0.05029296875, 0.06787109375, 0.10302734375, -0.0244140625, -0.0208740234375, -0.059814453125, 0.0693359375, 0.08203125, -0.0211181640625, -0.07275390625, 0.032470703125, 0.0498046875, -0.041015625, 0.041259765625, 0.078125, -0.0322265625, 0.091796875, -0.1396484375, 0.0174560546875, 0.1318359375, 0.1328125, 0.10595703125, -0.030517578125, 0.0286865234375, -0.0400390625, 0.0223388671875, -0.0157470703125, -0.0986328125, 0.11279296875, 0.005157470703125, -0.09130859375, 0.11865234375, -0.0361328125, -0.04443359375, 0.03173828125, 0.10205078125, -0.03466796875, 0.07177734375, -0.177734375, 0.027099609375, -0.01104736328125, -0.005950927734375, -0.0233154296875, -0.0152587890625, 0.181640625, -0.1171875, 0.0986328125, 0.173828125, -0.126953125, -0.2060546875, 0.10400390625, -0.08642578125, -0.126953125, -0.0576171875, 0.000278472900390625, 0.0634765625, -0.052001953125, 0.03564453125, 0.109375, -0.244140625, 0.060302734375, 0.003204345703125, 0.09912109375, -0.0400390625, -0.0927734375, -0.0341796875, -0.000873565673828125, -0.064453125, -0.1240234375, -0.04052734375, 0.01165771484375, 0.016357421875, -0.1298828125, 0.0537109375, 0.1044921875, 0.0458984375, -0.06494140625, -0.00128173828125, 0.0751953125, 0.05859375, 0.1474609375, 0.1494140625, -0.003509521484375, 0.036865234375, -0.12060546875, 0.10302734375, -0.031005859375, 0.0791015625, 0.03564453125, -0.002777099609375, -0.18359375, 0.050537109375, -0.044677734375, 0.111328125, 0.049560546875, 0.0576171875, -0.08203125, 0.1181640625, 0.00897216796875, -0.10302734375, -0.0228271484375, 0.2021484375, 0.12109375, -0.0128173828125, -0.01409912109375], [-0.09033203125, -0.11962890625, 0.1064453125, -0.19140625, 0.00103759765625, -0.034423828125, -0.1611328125, -0.007049560546875, -0.02783203125, 0.2119140625, 0.0400390625, -0.00177764892578125, 0.162109375, -0.018310546875, -0.024658203125, -0.06298828125, -0.0279541015625, 0.146484375, 0.03125, -0.080078125, -0.025634765625, -0.236328125, -0.0478515625, -0.00677490234375, 0.095703125, 0.11279296875, -0.004180908203125, -0.05517578125, 0.036865234375, 0.0947265625, 0.06982421875, 0.08056640625, 0.0186767578125, -0.00213623046875, 0.158203125, 0.17578125, 0.08837890625, -0.00159454345703125, -0.01129150390625, 0.00183868408203125, -0.06640625, -0.205078125, 0.0869140625, -0.004791259765625, 0.07373046875, -0.1328125, 0.041259765625, 0.126953125, 0.037109375, 0.0079345703125, 0.009033203125, 0.06298828125, 0.09912109375, -0.1025390625, 0.09130859375, 0.0498046875, -0.0045166015625, 0.1513671875, 0.10107421875, -0.01043701171875, 0.2490234375, 0.03662109375, 0.10498046875, -0.1357421875, 0.087890625, -0.019775390625, -0.046875, -0.00634765625, -0.1474609375, 0.09814453125, 0.11181640625, -0.12060546875, -0.000858306884765625, -0.052490234375, 0.08837890625, -0.02001953125, 0.026123046875, -0.146484375, -0.08056640625, -0.07470703125, 0.03271484375, 0.02587890625, -0.0712890625, -0.00099945068359375, 0.07763671875, -0.040771484375, -0.02880859375, 0.1064453125, -0.02490234375, 0.10107421875, -0.04931640625, -0.169921875, 0.0693359375, -0.0196533203125, 0.0024566650390625, -0.1123046875, 0.039306640625, -0.00799560546875, -0.03662109375, -0.00848388671875, 0.01116943359375, 0.0849609375, -0.1572265625, 0.111328125, 0.06982421875, -0.03564453125, -0.07373046875, -0.1982421875, -0.04345703125, -0.0869140625, -0.01556396484375, 0.0103759765625, -0.1298828125, -0.0888671875, 0.058837890625, 0.039306640625, 0.0157470703125, -0.0101318359375, -0.022216796875, -0.01275634765625, -0.01239013671875, -0.051025390625, -0.01165771484375, 0.049072265625, 0.12060546875, 0.00982666015625, 0.06787109375, 0.08349609375], [0.185546875, 0.0279541015625, 0.1357421875, -0.07275390625, -0.07470703125, 0.00147247314453125, -0.031005859375, 0.08349609375, 0.10498046875, 0.11962890625, 0.1533203125, 0.00057220458984375, 0.007354736328125, 0.09814453125, 0.043212890625, -0.00014781951904296875, -0.06640625, 0.08251953125, 0.07470703125, 0.0625, 0.0654296875, -0.01263427734375, -0.05908203125, -0.1494140625, 0.044189453125, -0.05029296875, 0.0159912109375, 0.0498046875, -0.1796875, -0.0115966796875, 0.11083984375, -0.0888671875, -0.033203125, -0.12353515625, -0.033203125, 0.01470947265625, 0.087890625, 0.060546875, -0.0162353515625, 0.11083984375, 0.02001953125, 0.003509521484375, 0.13671875, 0.049072265625, 0.0252685546875, 0.05029296875, 0.051025390625, 0.006134033203125, 0.02294921875, 0.049072265625, 0.01708984375, -0.037109375, 0.11767578125, -0.244140625, 0.09423828125, -0.032958984375, -0.07666015625, 0.20703125, -0.00665283203125, 0.00689697265625, 0.050537109375, 0.01318359375, -0.0810546875, 0.044921875, 0.12109375, 0.0634765625, -0.0098876953125, -0.0238037109375, -0.000331878662109375, 0.185546875, 0.1240234375, 0.02490234375, -0.005126953125, -0.0693359375, -0.02880859375, -0.05810546875, -0.050537109375, 0.126953125, -0.10546875, -0.07275390625, 0.003631591796875, -0.061279296875, -0.2275390625, -0.10791015625, -0.142578125, -0.126953125, 0.060302734375, 0.189453125, -0.0634765625, 0.038818359375, -0.04345703125, -0.1025390625, -0.0101318359375, 0.11376953125, -0.1396484375, -0.042236328125, -0.13671875, -0.00811767578125, -0.033935546875, -0.0732421875, 0.07568359375, 0.0830078125, 0.0218505859375, 0.0458984375, 0.064453125, -0.2333984375, -0.048828125, -0.09375, 0.1474609375, -0.0115966796875, -0.029052734375, -0.0263671875, -0.10107421875, -0.166015625, 0.10693359375, 0.017333984375, -0.0625, 0.1083984375, -0.06396484375, -0.0191650390625, -0.007293701171875, 0.12060546875, 0.040771484375, 0.0244140625, 0.0140380859375, -0.00909423828125, -0.12109375, -0.02099609375], [-0.0908203125, -0.10302734375, 0.062255859375, -0.0186767578125, 0.05712890625, -0.0194091796875, -0.1337890625, 0.051513671875, -0.0260009765625, 0.197265625, -0.1494140625, 0.03271484375, 0.04443359375, -0.022216796875, -0.0439453125, 0.042236328125, -0.01507568359375, -0.057861328125, -0.036376953125, -0.1201171875, -0.0098876953125, -0.12255859375, -0.130859375, 0.0267333984375, -0.04345703125, 0.049560546875, -0.150390625, -0.0888671875, -0.04638671875, -0.01409912109375, 0.08984375, 0.0081787109375, -0.09130859375, 0.046630859375, 0.005279541015625, 0.107421875, 0.051513671875, -0.040771484375, 0.034912109375, 0.16796875, -0.1396484375, -0.1611328125, -0.10400390625, 0.111328125, 0.21875, -0.0206298828125, -0.01202392578125, -0.019287109375, 0.0615234375, -0.033203125, 0.1171875, 0.052978515625, 0.0927734375, -0.017333984375, 0.10986328125, 0.12451171875, 0.046142578125, 0.134765625, 0.09716796875, -0.181640625, 0.2236328125, -0.0517578125, -0.041015625, -0.040771484375, 0.076171875, 0.08251953125, -0.1357421875, 0.0308837890625, -0.0703125, 0.08349609375, 0.07275390625, -0.042724609375, -0.041015625, -0.042236328125, 0.057861328125, 0.07080078125, 0.076171875, -0.072265625, -0.041748046875, -0.1259765625, 0.010498046875, 0.03857421875, -0.177734375, 0.08203125, -0.08251953125, 0.0986328125, -0.052734375, -0.07470703125, 0.06640625, -0.0006103515625, -0.1181640625, -0.10791015625, 0.03759765625, -0.060546875, -0.0908203125, -0.1923828125, 0.06689453125, 0.003814697265625, -0.03369140625, 0.05419921875, -0.107421875, 0.11279296875, -0.03564453125, 0.008544921875, -0.053955078125, -0.0791015625, -0.03466796875, -0.08642578125, 0.013916015625, -0.080078125, 0.1806640625, 0.08203125, -0.09130859375, -0.1533203125, -0.064453125, 0.0230712890625, 0.042724609375, 0.068359375, 0.1474609375, -0.047119140625, -0.078125, 0.08984375, 0.0050048828125, 0.07177734375, -0.060302734375, 0.0595703125, 0.06640625, 0.016845703125], [-0.02392578125, -0.1669921875, 0.0859375, -0.05078125, 0.10546875, -0.05517578125, -0.029296875, -0.0106201171875, 0.0478515625, 0.1494140625, -0.00335693359375, 0.0303955078125, -0.017333984375, -0.0576171875, 0.0027008056640625, -0.07958984375, -0.025146484375, 0.0004367828369140625, 0.008056640625, -0.1259765625, 0.006988525390625, -0.1357421875, -0.040771484375, -0.010986328125, 0.01904296875, 0.1513671875, -0.10400390625, -0.10693359375, -0.06689453125, -0.053466796875, 0.12451171875, 0.09033203125, -0.02001953125, 0.0380859375, 0.0106201171875, -0.02783203125, 0.06298828125, 0.0169677734375, 0.0908203125, -0.0267333984375, -0.1513671875, -0.03125, -0.01361083984375, 0.1279296875, 0.09228515625, 0.04541015625, -0.10498046875, -0.07421875, 0.1220703125, 0.047119140625, 0.05517578125, 0.0634765625, 0.09228515625, -0.0869140625, 0.169921875, 0.08349609375, -0.0537109375, 0.2236328125, 0.0517578125, -0.09912109375, 0.1416015625, -0.043701171875, -0.07470703125, -0.0703125, 0.052001953125, 0.10009765625, -0.09228515625, -0.050048828125, -0.05419921875, 0.10498046875, 0.181640625, -0.1572265625, 0.0478515625, -0.00128936767578125, 0.01904296875, 0.049072265625, 0.0189208984375, -0.2373046875, 0.1201171875, -0.1669921875, -0.00982666015625, 0.019775390625, -0.1865234375, -0.0380859375, -0.01458740234375, 0.016357421875, -0.055908203125, -0.0189208984375, 0.0301513671875, 0.01177978515625, -0.00099945068359375, -0.040771484375, 0.036376953125, 0.11962890625, -0.06787109375, -0.18359375, 0.04541015625, -0.035400390625, -0.16015625, -0.0634765625, -0.06787109375, 0.05322265625, 0.01177978515625, 0.0634765625, 0.0771484375, -0.1572265625, -0.09375, -0.212890625, 0.0380859375, -0.08740234375, -0.041015625, -0.06884765625, -0.046630859375, -0.11865234375, -0.06005859375, -0.00921630859375, -0.004852294921875, 0.140625, -0.021484375, 0.05322265625, 0.0152587890625, -0.060791015625, 0.0218505859375, 0.091796875, 0.04443359375, 0.1865234375, 0.00628662109375, 0.03857421875], [-0.07568359375, 0.03857421875, 0.12255859375, -0.09716796875, 0.002197265625, -0.051513671875, 0.123046875, -0.1142578125, 0.0556640625, 0.0245361328125, -0.03271484375, 0.0299072265625, -0.0162353515625, -0.0152587890625, 0.037109375, -0.078125, 0.078125, 0.049560546875, 0.036865234375, -0.2490234375, -0.0732421875, -0.07763671875, -0.10302734375, -0.0263671875, -0.028564453125, 0.0859375, -0.051513671875, 0.025634765625, -0.1435546875, 0.06640625, 0.09033203125, -0.045166015625, -0.072265625, 0.041259765625, 0.03271484375, -0.021484375, 0.16796875, 0.01123046875, 0.029052734375, 0.14453125, -0.08251953125, -0.0201416015625, 0.02001953125, 0.1533203125, 0.158203125, 0.0546875, -0.1123046875, -0.1298828125, -0.0238037109375, -0.0478515625, 0.06396484375, 0.05078125, 0.04052734375, -0.1337890625, 0.035400390625, -0.00927734375, -0.06982421875, 0.0888671875, -0.03173828125, -0.0791015625, 0.0223388671875, -0.0030364990234375, -0.01531982421875, -0.0037841796875, 0.15625, -0.06591796875, -0.0869140625, -0.059814453125, -0.083984375, 0.2236328125, 0.1962890625, -0.08984375, 0.09521484375, 0.095703125, 0.0927734375, -0.044921875, -0.04052734375, -0.0869140625, 0.006439208984375, -0.0478515625, -0.003814697265625, -0.054931640625, -0.251953125, 0.0361328125, 0.046875, 0.01904296875, -0.008056640625, -0.12890625, -0.12060546875, -0.07275390625, -0.09033203125, -0.1484375, -0.04345703125, 0.130859375, 0.00927734375, -0.09521484375, 0.0306396484375, 0.08984375, 0.04150390625, -0.1513671875, -0.11083984375, 0.0255126953125, -0.01171875, 0.09423828125, 0.1845703125, -0.19921875, -0.12890625, -0.1044921875, -0.027099609375, -0.1025390625, 0.1064453125, 0.0147705078125, -0.047119140625, -0.06298828125, -0.041748046875, -0.07373046875, 0.0245361328125, 0.0859375, 0.024658203125, -0.0216064453125, 0.043701171875, -0.083984375, -0.064453125, 0.072265625, 0.09521484375, 0.09814453125, -0.00038909912109375, 0.0098876953125], [-0.0262451171875, -0.12890625, 0.15625, -0.193359375, -0.0262451171875, -0.01092529296875, 0.034423828125, 0.0004367828369140625, -0.1455078125, 0.0322265625, 0.08251953125, 0.173828125, -0.02978515625, 0.01025390625, 0.0625, 0.033203125, -0.080078125, -0.0498046875, 0.0157470703125, -0.08935546875, -0.030029296875, -0.2109375, -0.1455078125, 0.0084228515625, 0.126953125, 0.1533203125, -0.059326171875, -0.07275390625, -0.09033203125, 0.059326171875, 0.09033203125, 0.00689697265625, 0.08837890625, -0.036376953125, 0.044189453125, 0.1103515625, 0.091796875, 0.0859375, -0.0673828125, 0.0908203125, -0.0252685546875, 0.003326416015625, 0.064453125, -0.0240478515625, 0.07958984375, -0.06103515625, -0.03662109375, -0.07568359375, -0.0120849609375, 0.042724609375, 0.06884765625, 0.138671875, 0.076171875, -0.11865234375, 0.09375, 0.0341796875, -0.038330078125, 0.19921875, 0.01336669921875, 2.384185791015625e-05, 0.1748046875, -0.07861328125, -0.19921875, 0.034912109375, 0.1337890625, -0.027099609375, 0.01336669921875, 0.04541015625, -0.059326171875, 0.0289306640625, 0.189453125, -0.1259765625, -0.0181884765625, -0.0015716552734375, -0.0084228515625, -0.00107574462890625, 0.036376953125, 0.01171875, -0.04443359375, -0.029296875, 0.061767578125, -0.039306640625, -0.087890625, 0.01483154296875, 0.0712890625, -0.031494140625, -0.07861328125, -0.0233154296875, -0.053466796875, -0.0013427734375, -0.04541015625, -0.1416015625, 0.09814453125, -0.021484375, -0.049560546875, -0.0849609375, -0.0252685546875, -0.07373046875, -0.036865234375, -0.007354736328125, -0.0634765625, 0.007171630859375, 0.0233154296875, 0.06298828125, 0.154296875, -0.2041015625, 0.0751953125, -0.107421875, 0.09130859375, -0.0020599365234375, -0.0595703125, -0.11279296875, 0.00128173828125, -0.216796875, 0.06591796875, 0.26171875, 0.01446533203125, 0.0625, 0.004638671875, -0.053466796875, -0.052490234375, -0.005950927734375, 0.027587890625, 0.1806640625, 0.025634765625, 0.04541015625, -0.05712890625, 0.0732421875], [-0.00189971923828125, -0.05029296875, 0.2265625, -0.2314453125, 0.0250244140625, -0.03759765625, 0.09423828125, 0.1640625, 0.040283203125, 0.02734375, 0.08251953125, 0.111328125, -0.1162109375, 0.0296630859375, 0.0301513671875, 0.01177978515625, -0.1435546875, 0.142578125, -0.0277099609375, 0.0517578125, -0.01519775390625, -0.140625, -0.10009765625, -0.0262451171875, 0.0198974609375, 0.00860595703125, -0.1083984375, -0.010498046875, -0.142578125, -0.0927734375, 0.134765625, -0.07373046875, 0.119140625, -0.08447265625, -0.01373291015625, 0.017822265625, 0.00933837890625, 0.0177001953125, 0.052001953125, 0.1025390625, -0.1728515625, -0.10009765625, 0.0849609375, 0.041015625, 0.10791015625, -0.011474609375, 0.09765625, -0.1455078125, 0.0189208984375, -0.034423828125, -0.01251220703125, -0.0849609375, 0.07275390625, -0.1640625, 0.130859375, -0.059326171875, -0.045166015625, 0.126953125, -0.03857421875, 0.024658203125, 0.04736328125, -0.1484375, -0.0595703125, 0.03125, 0.03369140625, 0.1337890625, -0.01007080078125, 0.005218505859375, 0.043212890625, 0.076171875, 0.038330078125, -0.07861328125, 0.1083984375, -0.017822265625, 0.008544921875, 0.0087890625, 0.060791015625, 0.1318359375, -0.06884765625, -0.08203125, 0.00958251953125, 0.06689453125, -0.19140625, 0.05712890625, 0.0390625, -0.12158203125, -0.142578125, -0.05126953125, 0.08642578125, -0.0281982421875, -0.07470703125, -0.11279296875, -0.06494140625, 0.1220703125, 0.09912109375, -0.08935546875, -0.051025390625, 0.08349609375, -0.10107421875, -0.109375, -0.04345703125, 0.048095703125, -0.0673828125, 0.004638671875, 0.0947265625, -0.076171875, 0.11083984375, -0.05615234375, 0.07470703125, 0.04638671875, -0.0240478515625, -0.12451171875, -0.031494140625, -0.0849609375, 0.064453125, 0.1884765625, -0.0849609375, 0.072265625, -0.034912109375, -0.037109375, -1.341104507446289e-05, 0.0517578125, 0.07763671875, 0.0888671875, 0.130859375, 0.0732421875, 0.10205078125, 0.050048828125], [0.05419921875, -0.08837890625, 0.2216796875, -0.197265625, 0.06787109375, -0.07666015625, 0.0164794921875, 0.1337890625, 0.10205078125, 0.0299072265625, 0.07177734375, 0.158203125, -0.16015625, -0.015869140625, 0.11962890625, -0.01611328125, -0.0908203125, 0.046142578125, -0.023193359375, -0.02197265625, -0.07177734375, -0.10107421875, -0.0186767578125, -0.0264892578125, 0.09375, 0.103515625, -0.09521484375, -0.0341796875, -0.115234375, -0.1455078125, 0.134765625, -0.0888671875, -0.027587890625, -0.01507568359375, 0.0234375, -0.0208740234375, 0.054443359375, 0.060302734375, 0.09912109375, 0.1005859375, -0.1279296875, -0.103515625, 0.04296875, 0.08349609375, 0.11328125, -0.0712890625, 0.019775390625, -0.134765625, -0.08642578125, 0.00787353515625, 0.056884765625, -0.0869140625, 0.1650390625, -0.1630859375, 0.07861328125, 0.00139617919921875, -0.055908203125, 0.060302734375, -0.0267333984375, 0.01153564453125, -0.01239013671875, -0.1220703125, -0.0888671875, 0.04931640625, -0.029296875, 0.11474609375, -0.04931640625, 0.004669189453125, -0.02001953125, 0.1279296875, 0.1533203125, -0.09619140625, 0.0908203125, -0.022705078125, -0.03662109375, -0.000591278076171875, 0.08740234375, 0.047607421875, -0.01214599609375, -0.1455078125, 0.06005859375, 0.140625, -0.095703125, 0.0478515625, 0.053466796875, -0.01483154296875, -0.10400390625, 0.029296875, -0.00799560546875, -0.03515625, -0.0849609375, -0.1455078125, -0.01904296875, 0.177734375, 0.043701171875, -0.11669921875, -0.0238037109375, 0.060791015625, -0.1474609375, -0.08642578125, 0.04638671875, 0.038818359375, -0.035400390625, -0.017578125, 0.1796875, -0.1796875, 0.05615234375, 0.0064697265625, 0.11376953125, 0.040283203125, -0.033935546875, -0.049560546875, -0.1298828125, -0.08349609375, 0.0301513671875, 0.0703125, -0.0203857421875, 0.1611328125, 0.021240234375, -0.0135498046875, 0.0244140625, 0.07421875, 0.059814453125, 0.0016021728515625, 0.0272216796875, 0.11328125, 0.06103515625, 0.12060546875], [-0.048828125, -0.10498046875, 0.08740234375, -0.08251953125, 0.0250244140625, -0.0047607421875, 0.03125, 0.1552734375, 0.0211181640625, 0.01031494140625, 0.00848388671875, 0.10595703125, 0.024169921875, 0.0245361328125, 0.1142578125, 0.00098419189453125, 0.0147705078125, 0.048095703125, -0.07275390625, -0.056396484375, -0.1201171875, -0.17578125, -0.0546875, -0.0888671875, -0.05810546875, 0.10205078125, -0.099609375, -0.04638671875, -0.10205078125, -0.1162109375, 0.06005859375, -0.0244140625, -0.0390625, 0.01177978515625, 0.0263671875, -0.01251220703125, 0.01220703125, 0.0625, 0.07421875, 0.033447265625, -0.1455078125, 0.09521484375, 0.1396484375, 0.01123046875, 0.044921875, -0.023193359375, -0.0245361328125, 0.04931640625, 0.1123046875, 0.0849609375, 0.06787109375, 0.08984375, 0.1328125, -0.1513671875, 0.058349609375, 0.02001953125, -0.07666015625, 0.1494140625, 0.058837890625, -0.08447265625, 0.103515625, -0.08447265625, -0.0120849609375, 0.0311279296875, 0.07275390625, 0.0654296875, 0.00531005859375, -0.07373046875, 0.0003414154052734375, 0.189453125, 0.1474609375, -0.11279296875, 0.009521484375, 0.0294189453125, -0.0196533203125, -0.169921875, 0.0810546875, -0.019287109375, 0.048095703125, -0.2001953125, 0.109375, 0.06787109375, -0.1357421875, -0.04931640625, -0.0067138671875, 0.044677734375, -0.02197265625, 0.0615234375, -0.02685546875, 0.0322265625, -0.0595703125, -0.1103515625, 0.109375, 0.0546875, -0.12353515625, -0.1337890625, 0.01177978515625, -0.025390625, -0.11279296875, -0.21484375, 0.1005859375, 0.1416015625, 0.042236328125, 0.002838134765625, 0.158203125, -0.2109375, 0.00013828277587890625, -0.00153350830078125, 0.12353515625, 0.0157470703125, -0.078125, -0.13671875, -0.03369140625, -0.08544921875, 0.11572265625, -0.03857421875, 0.008056640625, 0.125, 0.0966796875, 0.08935546875, 0.005828857421875, 0.00022220611572265625, -0.0028533935546875, 0.056884765625, 0.01123046875, 0.10546875, -0.07177734375, 0.203125]], 'metadatas': [{'Category': 'Hardware', 'Resolution': 'Update software', 'Ticket ID': 'TKT1001'}, {'Category': 'Software', 'Resolution': 'Email filter settings adjusted', 'Ticket ID': 'TCKT-1048'}, {'Category': 'Network', 'Resolution': 'Update software', 'Ticket ID': 'TKT1004'}, {'Category': 'Hardware', 'Resolution': 'Printer maintenance performed', 'Ticket ID': 'TCKT-1054'}, {'Category': 'Network', 'Resolution': 'Check network settings', 'Ticket ID': 'TKT1006'}, {'Category': 'Software', 'Resolution': 'App reinstalled and updated', 'Ticket ID': 'TCKT-1046'}, {'Category': 'Network', 'Resolution': 'Reboot the system', 'Ticket ID': 'TKT1007'}, {'Category': 'Network', 'Resolution': 'Replace hardware component', 'Ticket ID': 'TKT1009'}, {'Category': 'Software', 'Resolution': 'Email client reinstalled', 'Ticket ID': 'TCKT-1050'}, {'Category': 'Software', 'Resolution': 'Replace hardware component', 'Ticket ID': 'TKT1008'}, {'Category': 'Software', 'Resolution': 'Spam filter reconfigured', 'Ticket ID': 'TCKT-1078'}, {'Category': 'Software', 'Resolution': 'Reconfigured email settings', 'Ticket ID': 'TCKT-1010'}, {'Category': 'Hardware', 'Resolution': 'Printer driver reinstalled', 'Ticket ID': 'TCKT-1044'}, {'Category': 'Software', 'Resolution': 'App password reset done', 'Ticket ID': 'TCKT-1076'}, {'Category': 'Account Management', 'Resolution': 'Account unlocked and password reset', 'Ticket ID': 'TCKT-1052'}, {'Category': 'Account Management', 'Resolution': 'Password reset successfully', 'Ticket ID': 'TCKT-1012'}, {'Category': 'Hardware', 'Resolution': 'Replace hardware component', 'Ticket ID': 'TKT1003'}], 'documents': ['Issue: Printer not connecting\\nDescription: Network printer is not connecting to the office network, making it impossible for employees to print documents.', 'Issue: Problem with emails marked as spam\\nDescription: Important emails being sent to spam, missing critical communications. This is a recurring issue.', \"Issue: Computer running slow\\nDescription: User's computer is experiencing significant slowdowns, especially when running multiple applications. Might require performance diagnosis.\", 'Issue: Printer printing blank pages\\nDescription: The printer is only printing blank pages despite having ink.', 'Issue: Wi-Fi keeps disconnecting\\nDescription: The office Wi-Fi network keeps disconnecting, affecting multiple employees. Could be an issue with the Wi-Fi router or network configuration.', \"Issue: Mobile app not working properly\\nDescription: Mobile application crashes every time it\\\\'s opened. This is a recurring issue.\", \"Issue: Blue screen error on PC\\nDescription: User's PC shows a blue screen error after startup. Requires troubleshooting to identify the cause of the system crash.\", \"Issue: Laptop battery not charging\\nDescription: User's laptop battery is not charging when plugged in. Potential hardware issue with the battery or charging port.\", 'Issue: Email client crashes on opening\\nDescription: The email client crashes whenever the user tries to open it.', 'Issue: Lost data recovery\\nDescription: User accidentally deleted important files and needs to recover them. Possible data recovery from backups or undoing deletion.', 'Issue: Receiving spam from internal emails\\nDescription: Spam emails are being received from known internal contacts.', 'Issue: Email synchronization error\\nDescription: Emails not syncing correctly across devices, causing communication delays. This is a recurring issue.', 'Issue: Printer connectivity problem\\nDescription: Printer not connecting to any devices in the office. This is a recurring issue.', \"Issue: Mobile app login issues\\nDescription: Issues with logging into the company\\\\'s mobile app.\", \"Issue: Account locked out - needs reset\\nDescription: User\\\\'s account is locked out after multiple wrong password attempts.\", 'Issue: Password reset issue\\nDescription: User unable to reset password due to system error. This is a recurring issue.', 'Issue: Software installation error\\nDescription: Error encountered during the installation of a critical software update. Installation process fails with an error code.'], 'uris': None, 'data': None}\n"
     ]
    }
   ],
   "source": [
    "print(chroma_db._collection.get(include=['embeddings', 'documents', 'metadatas']))"
   ]
  },
  {
   "cell_type": "code",
   "execution_count": 27,
   "metadata": {},
   "outputs": [
    {
     "data": {
      "text/plain": [
       "[Document(page_content=\"Issue: Mobile app not working properly\\nDescription: Mobile application crashes every time it\\\\'s opened. This is a recurring issue.\", metadata={'Category': 'Software', 'Resolution': 'App reinstalled and updated', 'Ticket ID': 'TCKT-1046'}),\n",
       " Document(page_content=\"Issue: Mobile app login issues\\nDescription: Issues with logging into the company\\\\'s mobile app.\", metadata={'Category': 'Software', 'Resolution': 'App password reset done', 'Ticket ID': 'TCKT-1076'})]"
      ]
     },
     "execution_count": 27,
     "metadata": {},
     "output_type": "execute_result"
    }
   ],
   "source": [
    "chroma_db.similarity_search(\"Issue: Mobile app not working properly\",k=2)"
   ]
  },
  {
   "cell_type": "code",
   "execution_count": 28,
   "metadata": {},
   "outputs": [],
   "source": [
    "retriever = chroma_db.as_retriever(search_kwargs={'k': 1})"
   ]
  },
  {
   "cell_type": "code",
   "execution_count": 40,
   "metadata": {},
   "outputs": [],
   "source": [
    "# Define the Prompt Template\n",
    "prompt_template = \"\"\"\n",
    "You are an IT helpdesk assistant. A new ticket has been raised with the following issue and description:\n",
    "\n",
    "Issue: {issue}\n",
    "Description: {description}\n",
    "\n",
    "Here are some previous resolutions that might be relevant to this issue:\n",
    "{combined_resolutions}\n",
    "\n",
    "Based on the above information, provide a direction or suggestion that might help in resolving this issue. The goal is not to provide an exact solution but to give a hint or direction that could be helpful.\n",
    "\"\"\"\n",
    "\n",
    "prompt = PromptTemplate(input_variables=[\"issue\", \"description\", \"combined_resolutions\"], template=prompt_template)"
   ]
  },
  {
   "cell_type": "code",
   "execution_count": 49,
   "metadata": {},
   "outputs": [],
   "source": [
    "# Initialize extended LLM\n",
    "llm = AlephAlpha(\n",
    "    model=\"luminous-base-control\",\n",
    "    maximum_tokens=256,\n",
    "    aleph_alpha_api_key=os.getenv(\"AA_TOKEN\"),\n",
    ")"
   ]
  },
  {
   "cell_type": "code",
   "execution_count": 50,
   "metadata": {},
   "outputs": [],
   "source": [
    "# Define the retrieval and generation pipeline with hybrid search\n",
    "def get_suggestions(chain, retriever, issue, description, category):\n",
    "    # Combine issue and description to match the vectorized documents\n",
    "    query = f\"Issue: {issue}\\nDescription: {description}\"\n",
    "    \n",
    "    # Retrieve similar tickets within the same category\n",
    "    #similar_docs = retriever.get_relevant_documents(query, metadata_filters={\"Category\": category})\n",
    "    similar_docs = retriever.invoke(query, metadata_filters={\"Category\": category})\n",
    "    # Extract resolutions from the retrieved documents\n",
    "    resolutions = [doc.metadata['Resolution'] for doc in similar_docs]\n",
    "    \n",
    "    # Combine resolutions into a single context for the LLM\n",
    "    combined_resolutions = \"\\n\".join(resolutions)\n",
    "    \n",
    "    # Generate the suggestion with combined_resolutions\n",
    "    suggestion = chain.invoke({\"issue\": issue, \"description\": description, \"combined_resolutions\": combined_resolutions})\n",
    "    \n",
    "    return suggestion"
   ]
  },
  {
   "cell_type": "code",
   "execution_count": 51,
   "metadata": {},
   "outputs": [],
   "source": [
    "chain = prompt | llm"
   ]
  },
  {
   "cell_type": "code",
   "execution_count": 52,
   "metadata": {},
   "outputs": [],
   "source": [
    "new_ticket_issue = \"Emails not syncing on mobile\"\n",
    "new_ticket_description = \"User's emails are not syncing properly on their mobile device.\"\n",
    "new_ticket_category = \"Software\""
   ]
  },
  {
   "cell_type": "code",
   "execution_count": 53,
   "metadata": {},
   "outputs": [],
   "source": [
    "query = f\"Issue: {new_ticket_issue}\\nDescription: {new_ticket_description}\""
   ]
  },
  {
   "cell_type": "code",
   "execution_count": 54,
   "metadata": {},
   "outputs": [
    {
     "data": {
      "text/plain": [
       "[Document(page_content='Issue: Email synchronization error\\nDescription: Emails not syncing correctly across devices, causing communication delays. This is a recurring issue.', metadata={'Category': 'Software', 'Resolution': 'Reconfigured email settings', 'Ticket ID': 'TCKT-1010'})]"
      ]
     },
     "execution_count": 54,
     "metadata": {},
     "output_type": "execute_result"
    }
   ],
   "source": [
    "retriever.invoke(query, metadata_filters={\"Category\": new_ticket_category})"
   ]
  },
  {
   "cell_type": "code",
   "execution_count": 55,
   "metadata": {},
   "outputs": [
    {
     "name": "stdout",
     "output_type": "stream",
     "text": [
      "\n",
      "Based on the description provided, it seems that the user's email account may not be properly configured on their mobile device. Here are some steps you could take to help resolve the issue:\n",
      "\n",
      "1. Verify that the user's email account is properly configured on their mobile device.\n",
      "2. Ensure that the user has enabled push notifications for their email account.\n",
      "3. Check if the user has a strong and stable internet connection.\n",
      "4. If the issue persists, try resetting the user's email account settings on their mobile device.\n",
      "5. If the issue still persists, contact the user's email provider for further assistance.\n"
     ]
    }
   ],
   "source": [
    "suggestion = get_suggestions(chain, retriever, new_ticket_issue, new_ticket_description, new_ticket_category)\n",
    "print(suggestion)"
   ]
  },
  {
   "cell_type": "code",
   "execution_count": null,
   "metadata": {},
   "outputs": [],
   "source": []
  },
  {
   "cell_type": "markdown",
   "metadata": {},
   "source": [
    "## 8. Conclusion <a class=\"anchor\" id=\"8\"></a>\n",
    "\n",
    "The prototype demonstrates a functional approach to assisting helpdesk agents by leveraging past ticket data. While the current implementation addresses the core functionality, there are opportunities for further refinement and expansion to enhance the system's effectiveness and adaptability."
   ]
  },
  {
   "cell_type": "code",
   "execution_count": null,
   "metadata": {},
   "outputs": [],
   "source": []
  },
  {
   "cell_type": "code",
   "execution_count": null,
   "metadata": {},
   "outputs": [],
   "source": []
  }
 ],
 "metadata": {
  "kernelspec": {
   "display_name": "Python 3 (ipykernel)",
   "language": "python",
   "name": "python3"
  },
  "language_info": {
   "codemirror_mode": {
    "name": "ipython",
    "version": 3
   },
   "file_extension": ".py",
   "mimetype": "text/x-python",
   "name": "python",
   "nbconvert_exporter": "python",
   "pygments_lexer": "ipython3",
   "version": "3.9.12"
  }
 },
 "nbformat": 4,
 "nbformat_minor": 4
}
